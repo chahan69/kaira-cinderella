{
 "cells": [
  {
   "cell_type": "code",
   "execution_count": 1,
   "metadata": {
    "collapsed": true
   },
   "outputs": [],
   "source": [
    "import tensorflow as tf\n",
    "import numpy as np\n",
    "from matplotlib import pylab as plt\n",
    "import cv2\n",
    "from time import time\n",
    "from time import sleep\n",
    "from progressbar import ProgressBar\n",
    "from mpl_toolkits.axes_grid1 import ImageGrid\n",
    "import os,pickle\n",
    "from ipywidgets import ToggleButtons\n",
    "from ipywidgets import Button\n",
    "from ipywidgets import interact\n",
    "from IPython import display\n",
    "from IPython.display import clear_output"
   ]
  },
  {
   "cell_type": "code",
   "execution_count": 2,
   "metadata": {
    "collapsed": false
   },
   "outputs": [],
   "source": [
    "%matplotlib inline\n",
    "\"\"\"画像の読み込み\"\"\"\n",
    "files = os.listdir('dataset/padded')\n",
    "try:\n",
    "    files.remove('.DS_Store')\n",
    "except:\n",
    "    pass\n",
    "pad = 5\n",
    "data = []\n",
    "for name in files[:256]:\n",
    "    d = cv2.imread(\"dataset/padded/\"+name)\n",
    "    d = d[pad:88-pad,pad:88-pad]\n",
    "    d = cv2.resize(d,(64,64))\n",
    "    d = cv2.cvtColor(d, cv2.COLOR_BGR2RGB)\n",
    "    data.append(d)\n",
    "data = np.array(data, dtype=np.float32)\n",
    "data = data / 128.0 - 1"
   ]
  },
  {
   "cell_type": "code",
   "execution_count": null,
   "metadata": {
    "collapsed": false
   },
   "outputs": [],
   "source": [
    "\"\"\"ネットワークのセット\"\"\"\n",
    "nz = 100\n",
    "n0 = 256\n",
    "n1 = 128\n",
    "n2 = 64\n",
    "n3 = 32\n",
    "n4 = 16\n",
    "nc = 3\n",
    "f_size = 4\n",
    "\n",
    "sess = tf.InteractiveSession()\n",
    "\n",
    "def leaky(x):\n",
    "    return(tf.maximum(0.2 * x, x))\n",
    "\n",
    "def regularizer(x):\n",
    "    return(0.0001*tf.nn.l2_loss(x))\n",
    "\n",
    "G_feed = tf.placeholder(tf.float32, shape=[None, nz])\n",
    "\n",
    "class Generator:\n",
    "    def __init__(self):\n",
    "        self.reuse = False\n",
    "        \n",
    "    def __call__(self, G_feed ,mid=False):\n",
    "        G_feed = tf.convert_to_tensor(G_feed)\n",
    "        with tf.variable_scope('g', reuse=self.reuse):\n",
    "            \"\"\"reshape\"\"\"\n",
    "            out = tf.layers.dense(G_feed, n0*f_size*f_size, kernel_regularizer=regularizer)\n",
    "            out = tf.reshape(out, [-1, f_size, f_size, n0])\n",
    "            out = tf.layers.batch_normalization(out,training=True)\n",
    "            out = tf.nn.relu(out)\n",
    "            \"\"\"deconv0\"\"\"\n",
    "            out = tf.layers.conv2d_transpose(out, n1, [5, 5], strides=(2, 2), padding='SAME', kernel_regularizer=regularizer)\n",
    "            out = tf.nn.relu(tf.layers.batch_normalization(out, training=True))\n",
    "            \"\"\"deconv1\"\"\"\n",
    "            out = tf.layers.conv2d_transpose(out, n2, [5, 5], strides=(2, 2), padding='SAME', kernel_regularizer=regularizer)\n",
    "            out = tf.nn.relu(tf.layers.batch_normalization(out, training=True))\n",
    "            \"\"\"deconv2\"\"\"\n",
    "            out = tf.layers.conv2d_transpose(out, n3, [5, 5], strides=(2, 2), padding='SAME', kernel_regularizer=regularizer)\n",
    "            out = tf.nn.relu(tf.layers.batch_normalization(out, training=True))\n",
    "            if mid:\n",
    "                return(tf.tanh(out))\n",
    "            \"\"\"deconv3\"\"\"\n",
    "            out = tf.layers.conv2d_transpose(out, nc, [5, 5], strides=(2, 2), padding='SAME', kernel_regularizer=regularizer)\n",
    "            out = tf.tanh(out)\n",
    "        self.variables = tf.get_collection(tf.GraphKeys.TRAINABLE_VARIABLES, scope='g')\n",
    "        self.reuse = True\n",
    "        return(out)\n",
    "    \n",
    "    def midout(self, G_feed):\n",
    "        return(self(G_feed, mid=True))\n",
    "\n",
    "D_feed = tf.placeholder(tf.float32, shape=[None, 64, 64, nc])\n",
    "\n",
    "class Discriminator:\n",
    "    def __init__(self):\n",
    "        self.reuse = False\n",
    "        \n",
    "    def __call__(self, D_feed):\n",
    "        D_feed = tf.convert_to_tensor(D_feed)\n",
    "        with tf.variable_scope('d', reuse=self.reuse):\n",
    "            \"\"\"conv1\"\"\"\n",
    "            out = tf.layers.conv2d(D_feed, n4, [5, 5], strides=(2, 2), padding='SAME', kernel_regularizer=regularizer)\n",
    "            out = leaky(tf.layers.batch_normalization(out, training=True))\n",
    "            \"\"\"conv2\"\"\"\n",
    "            out = tf.layers.conv2d(out, n3, [5, 5], strides=(2, 2), padding='SAME', kernel_regularizer=regularizer)\n",
    "            out = leaky(tf.layers.batch_normalization(out, training=True))\n",
    "            \"\"\"conv3\"\"\"\n",
    "            out = tf.layers.conv2d(out, n2, [5, 5], strides=(2, 2), padding='SAME', kernel_regularizer=regularizer)\n",
    "            out = leaky(tf.layers.batch_normalization(out, training=True))\n",
    "            \"\"\"conv4\"\"\"\n",
    "            out = tf.layers.conv2d(out, n1, [5, 5], strides=(2, 2), padding='SAME', kernel_regularizer=regularizer)\n",
    "            out = leaky(tf.layers.batch_normalization(out, training=True))\n",
    "            \"\"\"full-connect\"\"\"\n",
    "            out = tf.reshape(out, [-1,4*4*n1])\n",
    "            out = tf.layers.dense(out, 2, kernel_regularizer=regularizer)\n",
    "        self.variables = tf.get_collection(tf.GraphKeys.TRAINABLE_VARIABLES, scope='d')\n",
    "        self.reuse = True\n",
    "        return(out)\n"
   ]
  },
  {
   "cell_type": "code",
   "execution_count": null,
   "metadata": {
    "collapsed": false
   },
   "outputs": [],
   "source": [
    "\"\"\"誤差関数のセット\"\"\"\n",
    "\"\"\"prediction: G->0, T->1\"\"\"\n",
    "gen = Generator()\n",
    "dis = Discriminator()\n",
    "\n",
    "G_y = tf.placeholder(tf.int32, shape=None)\n",
    "G_loss = tf.reduce_mean(\n",
    "    tf.nn.sparse_softmax_cross_entropy_with_logits(\n",
    "        labels=G_y,\n",
    "        logits=dis(gen(G_feed))))\n",
    "\n",
    "D_yF = tf.placeholder(tf.int32, shape=None)\n",
    "D_loss = tf.reduce_mean(\n",
    "    tf.nn.sparse_softmax_cross_entropy_with_logits(\n",
    "        labels=D_yF,\n",
    "        logits=dis(gen(G_feed))))\n",
    "\n",
    "D_yT = tf.placeholder(tf.int32, shape=None)\n",
    "D_loss += tf.reduce_mean(\n",
    "    tf.nn.sparse_softmax_cross_entropy_with_logits(\n",
    "        labels=D_yT,\n",
    "        logits=dis(D_feed)))"
   ]
  },
  {
   "cell_type": "code",
   "execution_count": null,
   "metadata": {
    "collapsed": false
   },
   "outputs": [],
   "source": [
    "\"\"\"AdamOptimizerのセット\"\"\"\n",
    "G_optimizer = tf.train.AdamOptimizer(\n",
    "        learning_rate=0.0002, beta1=0.5).minimize(G_loss, var_list=gen.variables)\n",
    "D_optimizer = tf.train.AdamOptimizer(\n",
    "        learning_rate=0.0002, beta1=0.5).minimize(D_loss, var_list=dis.variables)\n",
    "sess.run(tf.global_variables_initializer())\n",
    "e = 1700"
   ]
  },
  {
   "cell_type": "code",
   "execution_count": null,
   "metadata": {
    "collapsed": false,
    "scrolled": true
   },
   "outputs": [],
   "source": [
    "class midresult:\n",
    "    def __init__(self):\n",
    "        with open(\"testgen.pickle\", \"rb\") as f:\n",
    "            self.testgen = pickle.load(f)\n",
    "        \"\"\"結果バーっと出力\"\"\"\n",
    "    def __call__(self,n):\n",
    "        im = gen(self.testgen).eval()\n",
    "        plt.figure(figsize=(10,10), dpi=100)\n",
    "        grid = ImageGrid(plt.figure(figsize=(10,10), dpi=100), 111, nrows_ncols = (8, batch//8))\n",
    "        for j in range(batch):\n",
    "            grid[j].tick_params(labelbottom='off', labelleft='off')\n",
    "            im[j] += 1\n",
    "            im[j] /= 2\n",
    "            grid[j].imshow(im[j])\n",
    "        plt.savefig(\"res/{0:06d}_cg.png\".format(n))\n",
    "        plt.show()\n",
    "        plt.close()\n",
    "writer = midresult()"
   ]
  },
  {
   "cell_type": "code",
   "execution_count": null,
   "metadata": {
    "collapsed": false,
    "scrolled": true
   },
   "outputs": [],
   "source": [
    "\"\"\"学習\"\"\"\n",
    "batch = 64\n",
    "e=0\n",
    "epoch = 100\n",
    "dsize = int(data.shape[0])\n",
    "p = ProgressBar(max_value=int(epoch)*int(dsize/batch))\n",
    "b = 0\n",
    "for _ in range(epoch):\n",
    "    e += 1\n",
    "    np.random.shuffle(data)\n",
    "    for i in range(0, dsize - batch, batch):\n",
    "        b += 1\n",
    "        p.update(b)\n",
    "        ones = np.ones(batch)\n",
    "        zeros = np.zeros(batch)\n",
    "        G_f = np.random.rand(batch, nz).astype(np.float32)*2 - 1\n",
    "        D_f = data[i:i+batch]\n",
    "#         print(dis(D_f).eval())\n",
    "#         print(dis(gen(G_f)).eval())\n",
    "        \"\"\"ここでGに2回通して非効率だからGの後にPlaceHolder置くように直さないといけない\"\"\"\n",
    "        G_optimizer.run(feed_dict={G_feed:G_f,G_y:ones})\n",
    "        D_optimizer.run(feed_dict={G_feed:G_f,D_feed:D_f,D_yF:zeros,D_yT:ones})\n",
    "    if e % 10 == 0:\n",
    "        print(\"epoch\",e,\"of\",epoch,\":\")\n",
    "        print(\" G_loss:\",G_loss.eval(feed_dict={G_feed:G_f, G_y:ones}))\n",
    "        print(\" D_loss:\",D_loss.eval(feed_dict={G_feed:G_f, D_feed:D_f, D_yT:ones, D_yF:zeros}))\n",
    "        writer(e)\n",
    "\n"
   ]
  },
  {
   "cell_type": "code",
   "execution_count": null,
   "metadata": {
    "collapsed": true
   },
   "outputs": [],
   "source": []
  },
  {
   "cell_type": "code",
   "execution_count": null,
   "metadata": {
    "collapsed": false
   },
   "outputs": [],
   "source": [
    "writer(5000)"
   ]
  },
  {
   "cell_type": "code",
   "execution_count": null,
   "metadata": {
    "collapsed": false
   },
   "outputs": [],
   "source": []
  },
  {
   "cell_type": "code",
   "execution_count": null,
   "metadata": {
    "collapsed": true
   },
   "outputs": [],
   "source": [
    "\"\"\"変数ロード\"\"\"\n",
    "saver = tf.train.Saver()\n",
    "saver.restore(sess, \"cg_model_4_1450.tfv\")\n",
    "with open(\"features\", \"rb\") as f:\n",
    "    features = pickle.load(f)"
   ]
  },
  {
   "cell_type": "code",
   "execution_count": null,
   "metadata": {
    "collapsed": false,
    "scrolled": true
   },
   "outputs": [],
   "source": [
    "\"\"\"変数セーブ\"\"\"\n",
    "saver = tf.train.Saver()\n",
    "saver.save(sess, \"cg_model_4_2000.tfv\")\n",
    "with open(\"testgen.pickle\", \"wb\") as f:\n",
    "    pickle.dump(writer.testgen, f)\n",
    "with open(\"features\", \"wb\") as f:\n",
    "    pickle.dump(features, f)\n",
    "print(\"Done\")\n",
    "\n"
   ]
  },
  {
   "cell_type": "code",
   "execution_count": null,
   "metadata": {
    "collapsed": false
   },
   "outputs": [],
   "source": [
    "\"\"\"途中層\"\"\"\n",
    "G_f = np.random.rand(batch, nz).astype(np.float32) -.5\n",
    "im = gen.midout(G_f).eval()\n",
    "real = (gen(G_f).eval()+1)/2\n",
    "for i in range(5):\n",
    "    grid = ImageGrid(plt.figure(figsize=(10,10), dpi=100), 111, nrows_ncols = (5, 8))\n",
    "    grid[0].tick_params(labelbottom='off', labelleft='off')\n",
    "    grid[0].imshow(cv2.resize(real[i],(32,32)))\n",
    "    for j in range(n3):\n",
    "        grid[8+j].tick_params(labelbottom='off', labelleft='off')\n",
    "        im[i,:,:,j] += 1\n",
    "        im[i,:,:,j] /= 2\n",
    "        grid[8+j].imshow(im[i,:,:,j],\"gray\")\n",
    "    plt.show()\n",
    "plt.close()"
   ]
  },
  {
   "cell_type": "code",
   "execution_count": null,
   "metadata": {
    "collapsed": false
   },
   "outputs": [],
   "source": [
    "\"\"\"ええやつだけ出す\"\"\"\n",
    "grid = ImageGrid(plt.figure(figsize=(10,10), dpi=100), 111, nrows_ncols = (8, 16))\n",
    "G_f = np.random.rand(batch, nz).astype(np.float32)-.5\n",
    "ims = gen(G_f).eval()/2 +.5\n",
    "for i in range(batch):\n",
    "    grid[i].imshow(ims[i])\n",
    "plt.show()\n",
    "plt.close()"
   ]
  },
  {
   "cell_type": "code",
   "execution_count": null,
   "metadata": {
    "collapsed": false
   },
   "outputs": [],
   "source": [
    "\n"
   ]
  },
  {
   "cell_type": "code",
   "execution_count": null,
   "metadata": {
    "collapsed": false
   },
   "outputs": [],
   "source": [
    "\"\"\"人力選別\"\"\"\n",
    "good = []\n",
    "goodz = []\n",
    "G_f = None\n",
    "a = Button(description=\"GOOD\")\n",
    "b = Button(description=\"BAD\")\n",
    "display.display(a)\n",
    "display.display(b)\n",
    "ims = []\n",
    "im = None\n",
    "z = None\n",
    "\n",
    "def foo():\n",
    "    global good,ims,im,goodz,z,G_f\n",
    "    clear_output()\n",
    "    if len(ims) == 0:\n",
    "        G_f = np.random.rand(batch, nz).astype(np.float32) - 0.5\n",
    "        ims = list((gen(G_f).eval()+1)/2)\n",
    "        G_f = list(G_f)\n",
    "    im = ims.pop()\n",
    "    z = G_f.pop()\n",
    "    plt.imshow(im)\n",
    "    plt.show()\n",
    "    plt.close()\n",
    "    print(len(good))\n",
    "    \n",
    "def a_c(a):\n",
    "    global good,ims,im,z,goodz\n",
    "    good.append(im)\n",
    "    goodz.append(z)\n",
    "    foo()\n",
    "    \n",
    "def b_c(b):\n",
    "    foo()\n",
    "    \n",
    "foo()\n",
    "a.on_click(a_c)\n",
    "b.on_click(b_c)"
   ]
  },
  {
   "cell_type": "code",
   "execution_count": null,
   "metadata": {
    "collapsed": false,
    "scrolled": true
   },
   "outputs": [],
   "source": [
    "G_f = (np.random.rand(batch, nz).astype(np.float32) - .5)*1.5\n",
    "images = gen(G_f).eval()\n",
    "grid = ImageGrid(plt.figure(figsize=(10,10), dpi=100), 111, nrows_ncols = (10, batch//9))\n",
    "for i in range(batch):\n",
    "    grid[i].imshow((images[i]+1)/2)\n",
    "    grid[i].set_title(str(i))\n",
    "plt.show()\n",
    "plt.close()"
   ]
  },
  {
   "cell_type": "code",
   "execution_count": null,
   "metadata": {
    "collapsed": false
   },
   "outputs": [],
   "source": [
    "\"\"\"↑で見つけたいいやつの保存\"\"\"\n",
    "# features[\"bright_hair\"] = G_f[[0,24,25,73]]\n",
    "features[\"bright_hair\"] = np.vstack((features[\"bright_hair\"],G_f[[]]))\n",
    "print(features[\"bright_hair\"].shape)"
   ]
  },
  {
   "cell_type": "code",
   "execution_count": null,
   "metadata": {
    "collapsed": false
   },
   "outputs": [],
   "source": [
    "\"\"\"check\"\"\"\n",
    "seed = features[\"bright_hair\"]\n",
    "G_f = np.zeros((batch,nz),dtype=np.float32)\n",
    "G_f[:len(seed)] = seed\n",
    "chkims = gen(G_f).eval()\n",
    "grid = ImageGrid(plt.figure(figsize=(10,10), dpi=100), 111, nrows_ncols = (10, batch//9))\n",
    "for i in range(len(seed)):\n",
    "    grid[i].imshow((chkims[i]+1)/2)\n",
    "#     grid[i].set_title(str(i))\n",
    "plt.show()\n",
    "plt.close()"
   ]
  },
  {
   "cell_type": "code",
   "execution_count": null,
   "metadata": {
    "collapsed": true
   },
   "outputs": [],
   "source": [
    "features[\"bright_hair\"] = np.delete(features[\"bright_hair\"],[],axis=0)"
   ]
  },
  {
   "cell_type": "code",
   "execution_count": null,
   "metadata": {
    "collapsed": false
   },
   "outputs": [],
   "source": [
    "\"\"\"比較\"\"\"\n",
    "vec = features[\"bright_hair\"].mean(axis=0)\n",
    "G_f = np.random.rand(batch, nz).astype(np.float32) - .5\n",
    "def norm(x):\n",
    "    return(np.sqrt(np.square(x).sum(axis=1)).reshape(-1,1))\n",
    "G_f[:12] = G_f[12:12*2] - vec\n",
    "G_f[:12] *= norm(G_f[12:12*2])/norm(G_f[:12])\n",
    "G_f[12*2:12*3] = G_f[12:12*2] + vec\n",
    "G_f[12*2:12*3] *= norm(G_f[12:12*2])/norm(G_f[12*2:12*3])\n",
    "grid = ImageGrid(plt.figure(figsize=(10,3), dpi=100), 111, nrows_ncols = (3,12),axes_pad=0)\n",
    "images = gen(G_f).eval()/2 + 0.5\n",
    "for i in range(12*3):\n",
    "    grid[i].imshow(images[i])\n",
    "plt.show()\n",
    "plt.close()"
   ]
  },
  {
   "cell_type": "code",
   "execution_count": null,
   "metadata": {
    "collapsed": false
   },
   "outputs": [],
   "source": [
    "\"ええやつ\"\n",
    "grid = ImageGrid(plt.figure(figsize=(10,10), dpi=100), 111, nrows_ncols = (8, 8))\n",
    "for i in range(min(len(good),64)):\n",
    "    grid[i].imshow(good[i])\n",
    "plt.show()\n",
    "plt.close()"
   ]
  },
  {
   "cell_type": "code",
   "execution_count": null,
   "metadata": {
    "collapsed": false
   },
   "outputs": [],
   "source": [
    "\"\"\"aからbへの変遷\"\"\"\n",
    "a = goodz[0]\n",
    "b = goodz[1]\n",
    "div = 16\n",
    "grid = ImageGrid(plt.figure(figsize=(div,1), dpi=60), 111, nrows_ncols = (1,div),axes_pad=0)\n",
    "def indiv(a,b,n):\n",
    "    return([a*(1-i) + b*i for i in np.arange(0,1+1/(n-1),1/(n-1))])\n",
    "G_f = np.random.rand(batch, nz).astype(np.float32)*2 - 1\n",
    "G_f[:div] = indiv(a,b,div)\n",
    "images = gen(G_f).eval()/2 + 0.5\n",
    "for i in range(div):\n",
    "    grid[i].imshow(images[i])\n",
    "plt.show()"
   ]
  },
  {
   "cell_type": "code",
   "execution_count": null,
   "metadata": {
    "collapsed": false
   },
   "outputs": [],
   "source": [
    "a = goodz[0]\n",
    "b = goodz[1]\n",
    "c = goodz[2]\n",
    "d = goodz[6]\n",
    "div = 11\n",
    "grid = ImageGrid(plt.figure(figsize=(div,div), dpi=60), 111, nrows_ncols = (div,div),axes_pad=0)\n",
    "def indiv(a,b,n):\n",
    "     return([a*(1-i) + b*i for i in np.arange(0,1+1/(n-1)-10**(-10),1/(n-1))])\n",
    "G_f = np.random.rand(batch, nz).astype(np.float32)*2 - 1\n",
    "square = np.zeros((div,div,nz),dtype=np.float32)\n",
    "upper = indiv(a,b,div)\n",
    "lower = indiv(c,d,div)\n",
    "square[0,:] = upper\n",
    "square[-1,:] = lower\n",
    "for i in range(div):\n",
    "    square[:,i] = indiv(upper[i],lower[i],div)\n",
    "G_f[:div**2] = square.reshape(-1,1,100)[:,0,:]\n",
    "images = gen(G_f).eval()/2 + 0.5\n",
    "for i in range(div**2):\n",
    "    grid[i].imshow(images[i])\n",
    "plt.show()\n"
   ]
  },
  {
   "cell_type": "code",
   "execution_count": null,
   "metadata": {
    "collapsed": false
   },
   "outputs": [],
   "source": [
    "\"\"\"ガウス分布による発生\"\"\"\n",
    "G_f = (np.random.rand(batch, nz).astype(np.float32)-.5)\n",
    "images = gen(G_f).eval()\n",
    "grid = ImageGrid(plt.figure(figsize=(10,10), dpi=100), 111, nrows_ncols = (8, batch//8))\n",
    "for i in range(batch):\n",
    "    grid[i].imshow((images[i]+1)/2)\n",
    "plt.show()\n",
    "plt.close()"
   ]
  },
  {
   "cell_type": "code",
   "execution_count": null,
   "metadata": {
    "collapsed": true
   },
   "outputs": [],
   "source": []
  }
 ],
 "metadata": {
  "anaconda-cloud": {},
  "kernelspec": {
   "display_name": "Python [default]",
   "language": "python",
   "name": "python3"
  },
  "language_info": {
   "codemirror_mode": {
    "name": "ipython",
    "version": 3
   },
   "file_extension": ".py",
   "mimetype": "text/x-python",
   "name": "python",
   "nbconvert_exporter": "python",
   "pygments_lexer": "ipython3",
   "version": "3.5.2"
  }
 },
 "nbformat": 4,
 "nbformat_minor": 1
}
